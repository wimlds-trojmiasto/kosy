{
 "cells": [
  {
   "cell_type": "markdown",
   "metadata": {},
   "source": [
    "# Prepare dataset\n",
    "The purpose of this file is to normalize dataset to have same size along the whole dataset in one run. \n",
    "This code finds all files from the directory and cuts each of them into smaller pieces of same *length*, optionally with a *stride*. If the  piece of a file is shorter than a *length* but still longer than a *minimum length treshold* zeroes at the end of a file are padded (to make the size equal to *length*).\n",
    "\n",
    "To-do list\n",
    "\n",
    "**Part 1**\n",
    "* [x] find all files in the directory\n",
    "* [x] prepare a strategy how to cut files: user gives file length in seconds, but we oparate on array indexes\n",
    "* [ ] cut sound into pieces \n",
    "* [ ] if last file is smaller put zeroes at the end\n",
    "* [ ] any preprocessing/normalization ?\n",
    "* [ ] save files\n",
    "\n",
    "**Part 2**\n",
    "* [ ] Prepare test, validation and training sets with k-fold validation"
   ]
  },
  {
   "cell_type": "markdown",
   "metadata": {},
   "source": [
    "## Create list of all files to cut"
   ]
  },
  {
   "cell_type": "code",
   "execution_count": 6,
   "metadata": {
    "scrolled": false
   },
   "outputs": [
    {
     "name": "stdout",
     "output_type": "stream",
     "text": [
      "Found  1782  files.\n"
     ]
    }
   ],
   "source": [
    "# find all of the files in the directory\n",
    "import os\n",
    "\n",
    "flist=[]\n",
    "for root, dirs, files in os.walk(\"../data/xeno-canto-dataset/\"):\n",
    "    for file in files:\n",
    "        if file.endswith(\".mp3\"):\n",
    "            flist.append(os.path.join(root, file))\n",
    "                \n",
    "print('Found ', len(flist),' files.')"
   ]
  },
  {
   "cell_type": "markdown",
   "metadata": {},
   "source": [
    "##  Load example file"
   ]
  },
  {
   "cell_type": "code",
   "execution_count": 7,
   "metadata": {},
   "outputs": [],
   "source": [
    "import librosa\n",
    "import matplotlib.pyplot as plt\n",
    "\n",
    "filePath = \"../data/xeno-canto-dataset/Acrocephalus arundinaceus cnt germany type song\\Acrocephalus246389.mp3\"\n",
    "signal, sr = librosa.load(filePath) # sr = sampling rate\n"
   ]
  },
  {
   "cell_type": "markdown",
   "metadata": {},
   "source": [
    "## Find strategy to cut the file\n",
    "We want to cut files to smaller pieces of the desired size (5 seconds in example), and stride of 1 second. Stride tells us how different pieces of files will overlap at each other."
   ]
  },
  {
   "cell_type": "code",
   "execution_count": 29,
   "metadata": {},
   "outputs": [
    {
     "name": "stdout",
     "output_type": "stream",
     "text": [
      "New file... 0.0  -  5.0\n",
      "Start:  0 end:  110250 length:  110250\n",
      "New file... 4.0  -  9.0\n",
      "Start:  88200 end:  198450 length:  110250\n",
      "New file... 8.0  -  13.0\n",
      "Start:  176400 end:  286650 length:  110250\n",
      "New file... 12.0  -  17.0\n",
      "Start:  264600 end:  374850 length:  110250\n",
      "New file... 16.0  -  21.0\n",
      "Start:  352800 end:  463050 length:  110250\n"
     ]
    }
   ],
   "source": [
    "size = {'desired': 5, 'minimum': 3, 'stride' : 1} # stride should not be bigger than desired length\n",
    "endTime = 0\n",
    "\n",
    "for startTime in range(0,int(len(signal)/sr),size['desired']-size['stride']):\n",
    "    startTime = startTime \n",
    "    endTime = startTime + size['desired']\n",
    "    start = int(startTime*sr)\n",
    "    end = int(endTime*sr)\n",
    "    print('New file...',start/sr,' - ',end/sr)\n",
    "    print('Start: ',start,'end: ', end, 'length: ', end-start)\n",
    "    \n",
    "\n"
   ]
  },
  {
   "cell_type": "code",
   "execution_count": null,
   "metadata": {},
   "outputs": [],
   "source": []
  }
 ],
 "metadata": {
  "kernelspec": {
   "display_name": "Python 3",
   "language": "python",
   "name": "python3"
  },
  "language_info": {
   "codemirror_mode": {
    "name": "ipython",
    "version": 3
   },
   "file_extension": ".py",
   "mimetype": "text/x-python",
   "name": "python",
   "nbconvert_exporter": "python",
   "pygments_lexer": "ipython3",
   "version": "3.7.3"
  }
 },
 "nbformat": 4,
 "nbformat_minor": 2
}
