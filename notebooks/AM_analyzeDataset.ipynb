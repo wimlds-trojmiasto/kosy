{
 "cells": [
  {
   "cell_type": "markdown",
   "metadata": {},
   "source": [
    "# Analyze downloaded bird sound files \n",
    "\n",
    "## Introduction\n",
    "The program analyze the bird song dataset downloaded with the file \"AM - Download dataset.py\" and checks the metadata itself.\n",
    "Each folder saved have at least one file inside: json with metadata. \n",
    "\n",
    "> JSON is short for JavaScript Object Notation, and is a way to store information in an organized, easy-to-access manner. In a nutshell, it gives us a human-readable collection of data that we can access in a really logical manner. (source: https://www.copterlabs.com/json-what-it-is-how-it-works-how-to-use-it/)\n",
    "\n",
    "If the algorithm found at least one file under searched term, those sound files are saved in the folder.\n",
    "\n",
    "## Requirements\n",
    "You should have installed followed libraries:\n",
    "* statistics, matplotlib, json and numpy\n",
    "* pandas - an open source, BSD-licensed library providing high-performance, easy-to-use data structures and data analysis tools\n",
    "* mutagen - mutagen is a Python module to handle audio metadata\n",
    "* librosa -  python package for music and audio analysis\n",
    "* noisereduce - noise reduction in python using spectral gating\n",
    "\n",
    "## Scirpt\n",
    "Script in the notebook returns:\n",
    "- [x] Number of files for a given bird, \n",
    "- [x] Minimum, maximum, and average length of a file, \n",
    "- [ ] Number of sounds with more than 1 tag,\n",
    "- [x] Number of sounds with specified quality (e.g. none - 460, A- 102 recordings, B - 230 recordigns, ...).\n",
    "\n",
    "Next, it analyze the recordings and:\n",
    "- [ ] Calculate the signal to noise ratio -> return min, max and average values, \n",
    "- [x] Shows 3 random bird-songs spectograms, melgrams and sound waves, \n",
    "- [x] Test denoising of 3 random recordings.\n",
    "\n"
   ]
  },
  {
   "cell_type": "code",
   "execution_count": null,
   "metadata": {},
   "outputs": [],
   "source": [
    "import json\n",
    "import pandas as pd"
   ]
  },
  {
   "cell_type": "code",
   "execution_count": null,
   "metadata": {},
   "outputs": [],
   "source": [
    "from AM_downloadDataset import read_data"
   ]
  },
  {
   "cell_type": "code",
   "execution_count": null,
   "metadata": {},
   "outputs": [],
   "source": [
    "countries = ['Poland', 'Germany', 'Slovakia', 'Czech', 'Lithuania']\n",
    "\n",
    "# make and initialize dictionary of a bird\n",
    "bird = {\n",
    "        'gen':'Parus',\n",
    "        'spec':'major',\n",
    "        'country':'',\n",
    "        'number of files': \n",
    "            {\n",
    "            'total' : 0,\n",
    "            'quality':{'A':0,\n",
    "                        'B':0,\n",
    "                        'C':0,\n",
    "                        'D':0,\n",
    "                        'E':0,\n",
    "                        'F':0,\n",
    "                      }\n",
    "            },\n",
    "        'length':{'min':0,\n",
    "                      'max':0,\n",
    "                      'mean':0,\n",
    "                      'median':0\n",
    "                      }\n",
    "        }\n",
    "\n",
    "pd.DataFrame(bird) \n"
   ]
  },
  {
   "cell_type": "code",
   "execution_count": null,
   "metadata": {},
   "outputs": [],
   "source": [
    "from mutagen.mp3 import MP3\n",
    "from statistics import mean, median\n",
    "\n",
    "lengthData = list()\n",
    "audioLength = []\n",
    "for country in range(len(countries)):\n",
    "        # find the driectory with recordings\n",
    "        bird['country']=bird['country']+' ' + countries[country]\n",
    "        path = '../data/xeno-canto-dataset/' + bird['gen'] + ' '+bird['spec'] +' cnt '+ countries[country] + ' type song'\n",
    "        print('Loading data from folder ' + path)\n",
    "        \n",
    "        # load info about the quality of the recording from json file\n",
    "        qualityData = read_data('q', path)\n",
    "        bird['number of files']['total']=bird['number of files']['total']+len(qualityData)\n",
    "        for quality in bird['number of files']['quality']:\n",
    "             bird['number of files']['quality'][quality]=bird['number of files']['quality'][quality]+qualityData.count(quality)\n",
    "        \n",
    "        # load MP3 file of every recording and check the length of a file\n",
    "        idData = read_data('id', path)\n",
    "        for audioFile in range(len(idData)):\n",
    "            audioLength.append(MP3(path+'/'+bird['gen']+idData[audioFile]+'.mp3').info.length) \n",
    "                        \n",
    "        lengthData = list(audioLength) + list(lengthData)\n",
    "\n",
    "bird['length']['max']=max(lengthData)\n",
    "bird['length']['min']=min(lengthData)\n",
    "bird['length']['mean']=mean(lengthData) \n",
    "bird['length']['median']=median(lengthData)  \n",
    "\n",
    "pd.DataFrame(bird)       \n"
   ]
  },
  {
   "cell_type": "markdown",
   "metadata": {},
   "source": [
    "## Randomly test few recordings\n",
    "In this section we randomly select a few (for exampke 3) recordings from a dataset and listen to it. Then we plot wavegrams, spectograms and melgrams."
   ]
  },
  {
   "cell_type": "code",
   "execution_count": null,
   "metadata": {},
   "outputs": [],
   "source": [
    "from random import sample\n",
    "\n",
    "# find the driectory with recordings\n",
    "path = '../data/xeno-canto-dataset/' + bird['gen'] + ' '+bird['spec'] + ' cnt '+ 'Poland' + ' type song'\n",
    "print('Loading data from folder ' + path)\n",
    "\n",
    "# load json file:  read all id numbers\n",
    "idData = read_data('id', path)\n",
    "qualityData = read_data('q',path)\n",
    "\n",
    "# select random 5 recordings from Poland\n",
    "randFiles = sample(range(len(idData)), 1)\n",
    "print('Selected random files number:',randFiles)"
   ]
  },
  {
   "cell_type": "code",
   "execution_count": null,
   "metadata": {},
   "outputs": [],
   "source": [
    "import IPython.display as ipd\n",
    "\n",
    "for audioFile in randFiles:\n",
    "    # path of random file\n",
    "    filePath = path+'/'+bird['gen']+idData[audioFile]+'.mp3'\n",
    "    print('Play the file number '+ str(audioFile)+', quality: '+ qualityData[audioFile])\n",
    "    # show the recording and allow to play it\n",
    "    ipd.display(ipd.Audio(filePath))\n"
   ]
  },
  {
   "cell_type": "code",
   "execution_count": null,
   "metadata": {},
   "outputs": [],
   "source": [
    "import matplotlib.pyplot as plt\n",
    "import librosa\n",
    "import librosa.display\n",
    "import numpy as np\n",
    "\n",
    "\n",
    "for audioFile in randFiles:\n",
    "    # path of random file\n",
    "    filePath = path+'/'+bird['gen']+idData[audioFile]+'.mp3'\n",
    "\n",
    "    # plot recording signal\n",
    "    y, sr = librosa.load(filePath,duration=30)\n",
    "    plt.figure(figsize=(10, 4))\n",
    "    librosa.display.waveplot(y, sr=sr)\n",
    "    plt.title('Monophonic - file number '+str(audioFile))\n",
    "    plt.show()\n",
    "    \n",
    "    # plot spectogram\n",
    "    plt.figure(figsize=(10, 4))\n",
    "    D = librosa.amplitude_to_db(np.abs(librosa.stft(y)), ref=np.max)\n",
    "    librosa.display.specshow(D, y_axis='linear')\n",
    "    plt.colorbar(format='%+2.0f dB')\n",
    "    plt.title('Linear-frequency power spectrogram - file number '+str(audioFile))\n",
    "    plt.show()\n"
   ]
  },
  {
   "cell_type": "code",
   "execution_count": null,
   "metadata": {},
   "outputs": [],
   "source": [
    "for audioFile in randFiles:\n",
    "    # path of random file\n",
    "    filePath = path+'/'+bird['gen']+idData[audioFile]+'.mp3'\n",
    "\n",
    "    # loading files again\n",
    "    y, sr = librosa.load(filePath,duration=30)\n",
    "\n",
    "    # plot mel-spectogram\n",
    "    # Passing through arguments to the Mel filters\n",
    "    S = librosa.feature.melspectrogram(y=y, sr=sr, n_mels=128,fmax=8000)\n",
    "    plt.figure(figsize=(10, 4))\n",
    "    librosa.display.specshow(librosa.power_to_db(S,ref=np.max),\n",
    "                          y_axis='mel', fmax=8000,x_axis='time')\n",
    "    plt.colorbar(format='%+2.0f dB')\n",
    "    plt.title('Mel spectrogram - file number '+str(audioFile))\n",
    "    plt.tight_layout()\n",
    "    plt.show()"
   ]
  },
  {
   "cell_type": "markdown",
   "metadata": {},
   "source": [
    "## Denoising\n",
    "Testing denoising with the library **noisereduce** https://pypi.org/project/noisereduce/\n",
    "#### Noise reduction in python using spectral gating\n",
    "This algorithm is based (but not completely reproducing) on the one outlined by Audacity for the noise reduction effect\n",
    "The algorithm requires two inputs:\n",
    "* A noise audio clip comtaining prototypical noise of the audio clip - in the file below I fed the algirthm with the whole recording as the recording with a noise\n",
    "* A signal audio clip containing the signal and the noise intended to be removed\n"
   ]
  },
  {
   "cell_type": "code",
   "execution_count": null,
   "metadata": {},
   "outputs": [],
   "source": [
    "import noisereduce as nr\n",
    "for audioFile in randFiles:\n",
    "    # path of random file\n",
    "    filePath = path+'/'+bird['gen']+idData[audioFile]+'.mp3'\n",
    "    print('Play the file number '+ str(audioFile)+', quality: '+ qualityData[audioFile])\n",
    "    # show the recording and allow to play it\n",
    "    ipd.display(ipd.Audio(filePath))\n",
    "    # perform noise reduction\n",
    "    data, r = librosa.load(filePath,duration=30)\n",
    "    print(len(data))\n",
    "    reduced_noise = nr.reduce_noise(audio_clip=data, noise_clip=data, verbose=True)\n",
    "    ipd.display(ipd.Audio(reduced_noise,rate=r))\n",
    "\n",
    "\n",
    "\n",
    "\n"
   ]
  },
  {
   "cell_type": "code",
   "execution_count": null,
   "metadata": {},
   "outputs": [],
   "source": []
  }
 ],
 "metadata": {
  "kernelspec": {
   "display_name": "Python 3",
   "language": "python",
   "name": "python3"
  },
  "language_info": {
   "codemirror_mode": {
    "name": "ipython",
    "version": 3
   },
   "file_extension": ".py",
   "mimetype": "text/x-python",
   "name": "python",
   "nbconvert_exporter": "python",
   "pygments_lexer": "ipython3",
   "version": "3.7.3"
  }
 },
 "nbformat": 4,
 "nbformat_minor": 2
}
